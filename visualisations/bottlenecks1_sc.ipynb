{
 "cells": [
  {
   "cell_type": "code",
   "execution_count": 1,
   "metadata": {
    "collapsed": true,
    "pycharm": {
     "name": "#%%\n"
    }
   },
   "outputs": [],
   "source": [
    "import pandas as pd\n",
    "import matplotlib.pyplot as plt\n",
    "%matplotlib inline\n",
    "from matplotlib import rc\n",
    "import numpy as np\n",
    "\n",
    "import os\n",
    "import matplotlib.container as container\n",
    "plt.style.use(['ggplot'])\n",
    "rc('figure', dpi=256)\n",
    "rc('font', family='serif', size=15)\n",
    "rc('text',usetex=True)\n",
    "import matplotlib as mpl\n",
    "mpl.rcParams.update(mpl.rcParamsDefault)"
   ]
  },
  {
   "cell_type": "code",
   "execution_count": 2,
   "outputs": [],
   "source": [
    "def toTime(x):\n",
    "    return x/2.8e9 * 1000 # from GHz to seconds to miliseconds\n",
    "\n",
    "# base = pd.read_csv('/home/lucasck/git/team36/src/alg1/opt/data/scalar/base.csv', sep=\",\")\n",
    "alg0 = pd.read_csv('/home/lucasck/git/team36/src/alg1/opt/scalar/bottlenecks/opt1.csv', sep=\",\")\n",
    "alg1 = pd.read_csv('/home/lucasck/git/team36/src/alg1/opt/scalar/bottlenecks/opt2.csv', sep=\",\")\n",
    "# alg2 = pd.read_csv('/home/lucasck/git/team36/src/alg1/opt/scalar/bottlenecks/opt3.csv', sep=\",\")\n",
    "alg3 = pd.read_csv('/home/lucasck/git/team36/src/alg1/opt/scalar/bottlenecks/opt4.csv', sep=\",\")\n",
    "alg4 = pd.read_csv('/home/lucasck/git/team36/src/alg1/opt/scalar/bottlenecks/opt5.csv', sep=\",\")\n",
    "# base = base.applymap(toTime)<\n",
    "algs = [alg0, alg1, alg3, alg4]\n",
    "for alg in algs:\n",
    "    alg.rename(columns={\"remaining_runtime\": \"get_true_knn\"}, inplace=True, errors=\"raise\")\n",
    "alg0 = alg0.applymap(toTime)\n",
    "alg1 = alg1.applymap(toTime)\n",
    "# alg2 = alg2.applymap(toTime)\n",
    "alg3 = alg3.applymap(toTime)\n",
    "alg4 = alg4.applymap(toTime)"
   ],
   "metadata": {
    "collapsed": false,
    "pycharm": {
     "name": "#%%\n"
    }
   }
  },
  {
   "cell_type": "code",
   "execution_count": 3,
   "outputs": [],
   "source": [
    "base_funcs = alg1.columns.to_list()"
   ],
   "metadata": {
    "collapsed": false,
    "pycharm": {
     "name": "#%%\n"
    }
   }
  },
  {
   "cell_type": "code",
   "execution_count": 4,
   "outputs": [],
   "source": [
    "mean4 = alg4.mean()\n",
    "std4 = np.array(alg4.std())\n",
    "mean4 = np.array(mean4)\n",
    "low_mean4 = np.array(mean4 - (alg4.min())) # confidence intervals\n",
    "high_mean4 = np.array((alg4.max()) - mean4)\n",
    "\n",
    "# meanb= base.mean()\n",
    "# stdb = np.array(base.std())\n",
    "# meanb = np.array(meanb)\n",
    "# low_meanb = np.array(meanb - (base.min())) # confidence intervals\n",
    "# high_meanb = np.array((base.max()) - meanb)\n",
    "\n",
    "mean1 = alg1.mean()\n",
    "std1 = np.array(alg1.std())\n",
    "mean1 = np.array(mean1)\n",
    "low_mean1 = np.array(mean1 - (alg1.min())) # confidence intervals\n",
    "high_mean1 = np.array((alg1.max()) - mean1)\n",
    "\n",
    "# mean2 = alg2.mean()\n",
    "# std2 = np.array(alg2.std())\n",
    "# mean2 = np.array(mean2)\n",
    "# low_mean2 = np.array(mean2 - (alg2.min())) # confidence intervals\n",
    "# high_mean2 = np.array((alg2.max()) - mean2)\n",
    "\n",
    "mean3 = alg3.mean()\n",
    "std3 = np.array(alg3.std())\n",
    "mean3 = np.array(mean3)\n",
    "low_mean3 = np.array(mean3 - (alg3.min())) # confidence intervals\n",
    "high_mean3 = np.array((alg3.max()) - mean3)\n",
    "\n",
    "mean0 = alg0.mean()\n",
    "std0 = np.array(alg0.std())\n",
    "mean0 = np.array(mean0)\n",
    "low_mean0 = np.array(mean0 - (alg0.min())) # confidence intervals\n",
    "high_mean0 = np.array((alg0.max()) - mean0)"
   ],
   "metadata": {
    "collapsed": false,
    "pycharm": {
     "name": "#%%\n"
    }
   }
  },
  {
   "cell_type": "code",
   "execution_count": 5,
   "outputs": [],
   "source": [
    "mean4 = mean4.reshape((len(base_funcs), -1))\n",
    "low_mean4 = low_mean4.reshape((len(base_funcs), -1))\n",
    "high_mean4 = high_mean4.reshape((len(base_funcs), -1))\n",
    "std4 = std4.reshape((len(base_funcs), -1))\n",
    "#\n",
    "# meanb = meanb.reshape((len(base_funcs), -1))\n",
    "# low_meanb = low_meanb.reshape((len(base_funcs), -1))\n",
    "# high_meanb = high_meanb.reshape((len(base_funcs), -1))\n",
    "# stdb = stdb.reshape((len(base_funcs), -1))\n",
    "\n",
    "mean1 = mean1.reshape((len(base_funcs), -1))\n",
    "low_mean1 = low_mean1.reshape((len(base_funcs), -1))\n",
    "high_mean1 = high_mean1.reshape((len(base_funcs), -1))\n",
    "std1 = std1.reshape((len(base_funcs), -1))\n",
    "\n",
    "# mean2 = mean2.reshape((len(base_funcs), -1))\n",
    "# low_mean2 = low_mean2.reshape((len(base_funcs), -1))\n",
    "# high_mean2 = high_mean2.reshape((len(base_funcs), -1))\n",
    "# std2 = std2.reshape((len(base_funcs), -1))\n",
    "\n",
    "mean3 = mean3.reshape((len(base_funcs), -1))\n",
    "low_mean3 = low_mean3.reshape((len(base_funcs), -1))\n",
    "high_mean3 = high_mean3.reshape((len(base_funcs), -1))\n",
    "std3 = std3.reshape((len(base_funcs), -1))\n",
    "\n",
    "mean0 = mean0.reshape((len(base_funcs), -1))\n",
    "low_mean0 = low_mean0.reshape((len(base_funcs), -1))\n",
    "high_mean0 = high_mean0.reshape((len(base_funcs), -1))\n",
    "std0 = std0.reshape((len(base_funcs), -1))"
   ],
   "metadata": {
    "collapsed": false,
    "pycharm": {
     "name": "#%%\n"
    }
   }
  },
  {
   "cell_type": "code",
   "execution_count": 6,
   "outputs": [],
   "source": [
    "# std_base = stdb\n",
    "std_alg0 = std0\n",
    "std_alg1 = std1\n",
    "# std_alg2 = std2\n",
    "std_alg3 = std3\n",
    "std_alg4 = std4"
   ],
   "metadata": {
    "collapsed": false,
    "pycharm": {
     "name": "#%%\n"
    }
   }
  },
  {
   "cell_type": "code",
   "execution_count": 7,
   "outputs": [],
   "source": [
    "means_alg4 = pd.DataFrame(mean4.T, columns=alg1.columns.to_list())\n",
    "# means_base = pd.DataFrame(meanb.T, columns=base.columns.to_list())\n",
    "means_alg1 = pd.DataFrame(mean1.T, columns=alg1.columns.to_list())\n",
    "# means_alg2 = pd.DataFrame(mean2.T, columns=alg1.columns.to_list())\n",
    "means_alg3 = pd.DataFrame(mean3.T, columns=alg1.columns.to_list())\n",
    "means_alg0 = pd.DataFrame(mean0.T, columns=alg1.columns.to_list())"
   ],
   "metadata": {
    "collapsed": false,
    "pycharm": {
     "name": "#%%\n"
    }
   }
  },
  {
   "cell_type": "code",
   "execution_count": 8,
   "outputs": [],
   "source": [
    "data = np.concatenate([means_alg0, means_alg1, means_alg3, means_alg4])\n",
    "# data = np.concatenate([means_base, means_alg0, means_alg1, means_alg2, means_alg3, means_alg4])\n",
    "means_alg1 = pd.DataFrame(data, columns=means_alg1.columns)\n",
    "stds = np.concatenate([std0, std1, std3, std4], axis=1)\n",
    "# stds = np.concatenate([stdb, std0, std1, std2, std3, std4], axis=1)\n",
    "mask = np.ma.masked_less(stds, 2)\n",
    "mask = mask.filled(0)"
   ],
   "metadata": {
    "collapsed": false,
    "pycharm": {
     "name": "#%%\n"
    }
   }
  },
  {
   "cell_type": "code",
   "execution_count": 14,
   "outputs": [],
   "source": [
    "ax = means_alg1.plot.barh(\n",
    "    capsize=20, ecolor='black', stacked=True, cmap='tab20', figsize=(10, 5), edgecolor='black', linewidth=1)\n",
    "# 'Pastel1', 'Pastel2', 'Paired', 'Accent', 'Dark2', 'Set1', 'Set2', 'Set3', 'tab10', 'tab20', 'tab20b', 'tab20c'\n",
    "ax.legend(fontsize=18)\n",
    "labels=[\"Opt 1\", \"Opt 2\", \"Opt 3\", \"Opt 4\"]\n",
    "for c in ax.containers:\n",
    "\n",
    "    if isinstance(c, container.BarContainer): # only annotate the bar containers\n",
    "        # format the number of decimal places and replace 0 with an empty string\n",
    "        labels = [f'{w:.0f}' if (w := v.get_width()) > 10 else '' for v in c ]\n",
    "\n",
    "        ax.bar_label(c, labels=labels, label_type='center')\n",
    "        ax.set_title(\"Bottleneck analysis for Alg1 Scalar $N = N_{test} = d = 512, K = 3$\", fontsize=20)\n",
    "        ax.set_xlabel(\"Runtime(ms)\", fontsize=22)\n",
    "\n",
    "labels=[\"Opt 1\", \"Opt 2\", \"Opt 3\", \"Opt 4\"]\n",
    "ax.set_yticklabels(labels, fontsize=22)\n",
    "ax.tick_params(axis=\"x\", labelsize=16)\n",
    "curdir = os.getcwd() + \"/\"\n",
    "plt.tight_layout()\n",
    "plt.savefig(curdir + \"bottlenecks1_sc_nobase\", format=\"pdf\")\n",
    "plt.close()"
   ],
   "metadata": {
    "collapsed": false,
    "pycharm": {
     "name": "#%%\n"
    }
   }
  },
  {
   "cell_type": "code",
   "execution_count": null,
   "outputs": [],
   "source": [],
   "metadata": {
    "collapsed": false,
    "pycharm": {
     "name": "#%%\n"
    }
   }
  }
 ],
 "metadata": {
  "kernelspec": {
   "display_name": "Python 3",
   "language": "python",
   "name": "python3"
  },
  "language_info": {
   "codemirror_mode": {
    "name": "ipython",
    "version": 2
   },
   "file_extension": ".py",
   "mimetype": "text/x-python",
   "name": "python",
   "nbconvert_exporter": "python",
   "pygments_lexer": "ipython2",
   "version": "2.7.6"
  }
 },
 "nbformat": 4,
 "nbformat_minor": 0
}