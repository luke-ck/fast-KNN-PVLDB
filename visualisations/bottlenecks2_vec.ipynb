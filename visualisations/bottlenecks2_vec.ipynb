{
 "cells": [
  {
   "cell_type": "code",
   "execution_count": 1,
   "outputs": [],
   "source": [
    "import pandas as pd\n",
    "import matplotlib.pyplot as plt\n",
    "%matplotlib inline\n",
    "from matplotlib import rc\n",
    "import numpy as np\n",
    "\n",
    "import os\n",
    "import matplotlib.container as container\n",
    "plt.style.use(['ggplot'])\n",
    "rc('figure', dpi=256)\n",
    "rc('font', family='serif', size=22)\n",
    "rc('text',usetex=True)\n",
    "import matplotlib as mpl\n",
    "mpl.rcParams.update(mpl.rcParamsDefault)"
   ],
   "metadata": {
    "collapsed": false,
    "pycharm": {
     "name": "#%%\n"
    }
   }
  },
  {
   "cell_type": "code",
   "execution_count": 2,
   "outputs": [],
   "source": [
    "def toTime(x):\n",
    "    return x/2.8e9 * 1000 # from GHz to seconds to miliseconds\n",
    "\n",
    "alg0 = pd.read_csv('/home/lucasck/git/team36/src/alg2/opt/vectorized/bottlenecks/opt1.csv', sep=\",\").iloc[:, 2:]\n",
    "alg3 = pd.read_csv('/home/lucasck/git/team36/src/alg2/opt/vectorized/bottlenecks/opt4.csv', sep=\",\").iloc[:, 2:]\n",
    "\n",
    "algs = [alg0, alg3]\n",
    "for alg in algs:\n",
    "    alg[\"insert\"] = alg[\"insert\"] + alg[\"insert_up\"] + alg[\"insert_down\"]\n",
    "    alg.rename(columns={\"shuffle\": \"remaining_runtime\", \"get_knn_inner\": \"permutation_loop\", \"insert\": \"heap\"}, inplace=True, errors=\"raise\")\n",
    "    alg[\"remaining_runtime\"] += alg[\"utility\"] + alg[\"col_mean\"]\n",
    "    alg.drop(columns=[\"insert_up\", \"insert_down\", \"utility\", \"col_mean\"], inplace=True)\n",
    "\n",
    "# base = base.applymap(toTime)\n",
    "alg0 = alg0.applymap(toTime)\n",
    "# alg1 = alg1.applymap(toTime)\n",
    "# alg2 = alg2.applymap(toTime)\n",
    "alg3 = alg3.applymap(toTime)"
   ],
   "metadata": {
    "collapsed": false,
    "pycharm": {
     "name": "#%%\n"
    }
   }
  },
  {
   "cell_type": "code",
   "execution_count": 3,
   "outputs": [],
   "source": [
    "base_funcs = alg0.columns.to_list()"
   ],
   "metadata": {
    "collapsed": false,
    "pycharm": {
     "name": "#%%\n"
    }
   }
  },
  {
   "cell_type": "code",
   "execution_count": 4,
   "outputs": [],
   "source": [
    "\n",
    "# meanb = base.mean()\n",
    "# stdb = np.array(base.std())\n",
    "# meanb = np.array(meanb)\n",
    "# low_meanb = np.array(meanb - (base.min())) # confidence intervals\n",
    "# high_meanb = np.array((base.max()) - meanb)\n",
    "\n",
    "# mean1 = alg1.mean()\n",
    "# std1 = np.array(alg1.std())\n",
    "# mean1 = np.array(mean1)\n",
    "# low_mean1 = np.array(mean1 - (alg1.min())) # confidence intervals\n",
    "# high_mean1 = np.array((alg1.max()) - mean1)\n",
    "#\n",
    "# mean2 = alg2.mean()\n",
    "# std2 = np.array(alg2.std())\n",
    "# mean2 = np.array(mean2)\n",
    "# low_mean2 = np.array(mean2 - (alg2.min())) # confidence intervals\n",
    "# high_mean2 = np.array((alg2.max()) - mean2)\n",
    "\n",
    "mean3 = alg3.mean()\n",
    "std3 = np.array(alg3.std())\n",
    "mean3 = np.array(mean3)\n",
    "low_mean3 = np.array(mean3 - (alg3.min())) # confidence intervals\n",
    "high_mean3 = np.array((alg3.max()) - mean3)\n",
    "\n",
    "mean0 = alg0.mean()\n",
    "std0 = np.array(alg0.std())\n",
    "mean0 = np.array(mean0)\n",
    "low_mean0 = np.array(mean0 - (alg0.min())) # confidence intervals\n",
    "high_mean0 = np.array((alg0.max()) - mean0)"
   ],
   "metadata": {
    "collapsed": false,
    "pycharm": {
     "name": "#%%\n"
    }
   }
  },
  {
   "cell_type": "code",
   "execution_count": 5,
   "outputs": [],
   "source": [
    "# meanb = meanb.reshape((len(base_funcs), -1))\n",
    "# low_meanb = low_meanb.reshape((len(base_funcs), -1))\n",
    "# high_meanb = high_meanb.reshape((len(base_funcs), -1))\n",
    "# stdb = stdb.reshape((len(base_funcs), -1))\n",
    "\n",
    "# mean1 = mean1.reshape((len(base_funcs), -1))\n",
    "# low_mean1 = low_mean1.reshape((len(base_funcs), -1))\n",
    "# high_mean1 = high_mean1.reshape((len(base_funcs), -1))\n",
    "# std1 = std1.reshape((len(base_funcs), -1))\n",
    "#\n",
    "# mean2 = mean2.reshape((len(base_funcs), -1))\n",
    "# low_mean2 = low_mean2.reshape((len(base_funcs), -1))\n",
    "# high_mean2 = high_mean2.reshape((len(base_funcs), -1))\n",
    "# std2 = std2.reshape((len(base_funcs), -1))\n",
    "\n",
    "mean3 = mean3.reshape((len(base_funcs), -1))\n",
    "low_mean3 = low_mean3.reshape((len(base_funcs), -1))\n",
    "high_mean3 = high_mean3.reshape((len(base_funcs), -1))\n",
    "std3 = std3.reshape((len(base_funcs), -1))\n",
    "\n",
    "mean0 = mean0.reshape((len(base_funcs), -1))\n",
    "low_mean0 = low_mean0.reshape((len(base_funcs), -1))\n",
    "high_mean0 = high_mean0.reshape((len(base_funcs), -1))\n",
    "std0 = std0.reshape((len(base_funcs), -1))"
   ],
   "metadata": {
    "collapsed": false,
    "pycharm": {
     "name": "#%%\n"
    }
   }
  },
  {
   "cell_type": "code",
   "execution_count": 6,
   "outputs": [],
   "source": [
    "# std_base = base.std()\n",
    "std_alg0 = alg0.std()\n",
    "# std_alg1 = alg1.std()\n",
    "# std_alg2 = alg2.std()\n",
    "std_alg3 = alg3.std()"
   ],
   "metadata": {
    "collapsed": false,
    "pycharm": {
     "name": "#%%\n"
    }
   }
  },
  {
   "cell_type": "code",
   "execution_count": 7,
   "outputs": [],
   "source": [
    "# means_base = pd.DataFrame(meanb.T, columns=base.columns.to_list())\n",
    "# means_alg1 = pd.DataFrame(mean1.T, columns=alg1.columns.to_list())\n",
    "# means_alg2 = pd.DataFrame(mean2.T, columns=alg1.columns.to_list())\n",
    "means_alg3 = pd.DataFrame(mean3.T, columns=alg0.columns.to_list())\n",
    "means_alg0 = pd.DataFrame(mean0.T, columns=alg0.columns.to_list())"
   ],
   "metadata": {
    "collapsed": false,
    "pycharm": {
     "name": "#%%\n"
    }
   }
  },
  {
   "cell_type": "code",
   "execution_count": 8,
   "outputs": [],
   "source": [
    "data = np.concatenate([means_alg0, means_alg3])\n",
    "means_alg1 = pd.DataFrame(data, columns=means_alg0.columns)\n",
    "stds = np.concatenate([std0, std3], axis=1)\n",
    "mask = np.ma.masked_less(stds, 1000)\n",
    "mask = mask.filled(0)"
   ],
   "metadata": {
    "collapsed": false,
    "pycharm": {
     "name": "#%%\n"
    }
   }
  },
  {
   "cell_type": "code",
   "execution_count": 10,
   "outputs": [],
   "source": [
    "# meanb = meanb.reshape((len(base_funcs), -1))\n",
    "# low_meanb = low_meanb.reshape((len(base_funcs), -1))\n",
    "# high_meanb = high_meanb.reshape((len(base_funcs), -1))\n",
    "# stdb = stdb.reshape((len(base_funcs), -1))\n",
    "\n",
    "# mean1 = mean1.reshape((len(base_funcs), -1))\n",
    "# low_mean1 = low_mean1.reshape((len(base_funcs), -1))\n",
    "# high_mean1 = high_mean1.reshape((len(base_funcs), -1))\n",
    "# std1 = std1.reshape((len(base_funcs), -1))\n",
    "#\n",
    "# mean2 = mean2.reshape((len(base_funcs), -1))\n",
    "# low_mean2 = low_mean2.reshape((len(base_funcs), -1))\n",
    "# high_mean2 = high_mean2.reshape((len(base_funcs), -1))\n",
    "# std2 = std2.reshape((len(base_funcs), -1))\n",
    "\n",
    "mean3 = mean3.reshape((len(base_funcs), -1))\n",
    "low_mean3 = low_mean3.reshape((len(base_funcs), -1))\n",
    "high_mean3 = high_mean3.reshape((len(base_funcs), -1))\n",
    "std3 = std3.reshape((len(base_funcs), -1))\n",
    "\n",
    "mean0 = mean0.reshape((len(base_funcs), -1))\n",
    "low_mean0 = low_mean0.reshape((len(base_funcs), -1))\n",
    "high_mean0 = high_mean0.reshape((len(base_funcs), -1))\n",
    "std0 = std0.reshape((len(base_funcs), -1))\n",
    "\n",
    "# std_base = base.std()\n",
    "std_alg0 = alg0.std()\n",
    "# std_alg1 = alg1.std()\n",
    "# std_alg2 = alg2.std()\n",
    "std_alg3 = alg3.std()\n",
    "# means_base = pd.DataFrame(meanb.T, columns=base.columns.to_list())\n",
    "# means_alg1 = pd.DataFrame(mean1.T, columns=alg1.columns.to_list())\n",
    "# means_alg2 = pd.DataFrame(mean2.T, columns=alg1.columns.to_list())\n",
    "means_alg3 = pd.DataFrame(mean3.T, columns=alg0.columns.to_list())\n",
    "means_alg0 = pd.DataFrame(mean0.T, columns=alg0.columns.to_list())\n",
    "\n",
    "data = np.concatenate([means_alg0, means_alg3])\n",
    "means_alg1 = pd.DataFrame(data, columns=means_alg0.columns)\n",
    "stds = np.concatenate([std0, std3], axis=1)\n",
    "mask = np.ma.masked_less(stds, 1000)\n",
    "mask = mask.filled(0)\n",
    "\n",
    "ax = means_alg1.plot.barh(capsize=20, ecolor='black', stacked=True, cmap='tab10', figsize=(14\n",
    "                                                                                           , 5),\n",
    "                          edgecolor='black', linewidth=1)\n",
    "ax.legend(fontsize=18)\n",
    "# 'Pastel1', 'Pastel2', 'Paired', 'Accent', 'Dark2', 'Set1', 'Set2', 'Set3', 'tab10', 'tab20', 'tab20b', 'tab20c'\n",
    "labels = [\"Opt 1\", \"Opt 2\"]\n",
    "for c in ax.containers:\n",
    "\n",
    "    if isinstance(c, container.BarContainer):  # only annotate the bar containers\n",
    "        # format the number of decimal places and replace 0 with an empty string\n",
    "        labels = [f'{w:.0f}' if (w := v.get_width()) > 1000 else '' for v in c]\n",
    "\n",
    "        ax.bar_label(c, labels=labels, label_type='center', fontsize=18)\n",
    "        ax.set_title(\"Bottleneck analysis for Alg2 Vectorized $N = N_{test} = d = 512, K = 3, \\widetilde{T} = 128$\", fontsize=22)\n",
    "        ax.set_xlabel(\"Runtime(ms)\", fontsize=22)\n",
    "\n",
    "labels = [\"Opt 1\", \"Opt 2\"]\n",
    "ax.set_yticklabels(labels, fontsize=22)\n",
    "ax.tick_params(axis=\"x\", labelsize=16)\n",
    "curdir = os.getcwd() + \"/\"\n",
    "plt.tight_layout()\n",
    "plt.savefig(curdir + \"bottlenecks2_vec_nobase\", format=\"pdf\")\n",
    "plt.close()"
   ],
   "metadata": {
    "collapsed": false,
    "pycharm": {
     "name": "#%%\n"
    }
   }
  }
 ],
 "metadata": {
  "kernelspec": {
   "display_name": "Python 3",
   "language": "python",
   "name": "python3"
  },
  "language_info": {
   "codemirror_mode": {
    "name": "ipython",
    "version": 2
   },
   "file_extension": ".py",
   "mimetype": "text/x-python",
   "name": "python",
   "nbconvert_exporter": "python",
   "pygments_lexer": "ipython2",
   "version": "2.7.6"
  }
 },
 "nbformat": 4,
 "nbformat_minor": 0
}